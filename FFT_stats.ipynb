{
 "cells": [
  {
   "cell_type": "code",
   "execution_count": 1,
   "metadata": {
    "collapsed": true,
    "ExecuteTime": {
     "start_time": "2024-03-22T13:04:52.344550Z",
     "end_time": "2024-03-22T13:04:57.151548Z"
    }
   },
   "outputs": [],
   "source": [
    "import matplotlib.pyplot as plt\n",
    "import numpy as np\n",
    "import pandas as pd\n",
    "from scipy import signal"
   ]
  },
  {
   "cell_type": "code",
   "execution_count": 2,
   "outputs": [
    {
     "data": {
      "text/plain": "    D_ID    Ch    Y    Length  Rate         0         1         2         3  \\\n0  41649  ch11  1.0  0.015900  10.0  0.047000  0.047354  0.046545  0.044573   \n1  41649  ch11  0.0  0.013423  10.0  0.008656  0.012800  0.016814  0.020705   \n2  41649  ch11  1.0  0.017600  10.0  0.051000  0.050911  0.050553  0.049928   \n3  41649  ch11  0.0  0.016390  10.0 -0.009367 -0.006322 -0.003447 -0.000969   \n4  41649  ch11  1.0  0.015381  10.0  0.074073  0.073189  0.072425  0.071784   \n\n          4  ...       502       503       504       505       506       507  \\\n0  0.041437  ...  0.068431  0.068107  0.067647  0.066334  0.064166  0.061622   \n1  0.024493  ...  0.115163  0.117910  0.120869  0.123986  0.127094  0.129613   \n2  0.049035  ...  0.017358  0.019915  0.023375  0.026494  0.028777  0.030293   \n3  0.000002  ...  0.030438  0.028142  0.026082  0.023952  0.022153  0.021232   \n4  0.070848  ... -0.056633 -0.055225 -0.052649 -0.048840 -0.043757 -0.036748   \n\n        508       509       510       511  \n0  0.059619  0.058182  0.057308  0.057000  \n1  0.131437  0.132614  0.133136  0.133000  \n2  0.031837  0.033637  0.035691  0.038000  \n3  0.021357  0.022458  0.024524  0.027556  \n4 -0.027419 -0.016791 -0.005622  0.006088  \n\n[5 rows x 517 columns]",
      "text/html": "<div>\n<style scoped>\n    .dataframe tbody tr th:only-of-type {\n        vertical-align: middle;\n    }\n\n    .dataframe tbody tr th {\n        vertical-align: top;\n    }\n\n    .dataframe thead th {\n        text-align: right;\n    }\n</style>\n<table border=\"1\" class=\"dataframe\">\n  <thead>\n    <tr style=\"text-align: right;\">\n      <th></th>\n      <th>D_ID</th>\n      <th>Ch</th>\n      <th>Y</th>\n      <th>Length</th>\n      <th>Rate</th>\n      <th>0</th>\n      <th>1</th>\n      <th>2</th>\n      <th>3</th>\n      <th>4</th>\n      <th>...</th>\n      <th>502</th>\n      <th>503</th>\n      <th>504</th>\n      <th>505</th>\n      <th>506</th>\n      <th>507</th>\n      <th>508</th>\n      <th>509</th>\n      <th>510</th>\n      <th>511</th>\n    </tr>\n  </thead>\n  <tbody>\n    <tr>\n      <th>0</th>\n      <td>41649</td>\n      <td>ch11</td>\n      <td>1.0</td>\n      <td>0.015900</td>\n      <td>10.0</td>\n      <td>0.047000</td>\n      <td>0.047354</td>\n      <td>0.046545</td>\n      <td>0.044573</td>\n      <td>0.041437</td>\n      <td>...</td>\n      <td>0.068431</td>\n      <td>0.068107</td>\n      <td>0.067647</td>\n      <td>0.066334</td>\n      <td>0.064166</td>\n      <td>0.061622</td>\n      <td>0.059619</td>\n      <td>0.058182</td>\n      <td>0.057308</td>\n      <td>0.057000</td>\n    </tr>\n    <tr>\n      <th>1</th>\n      <td>41649</td>\n      <td>ch11</td>\n      <td>0.0</td>\n      <td>0.013423</td>\n      <td>10.0</td>\n      <td>0.008656</td>\n      <td>0.012800</td>\n      <td>0.016814</td>\n      <td>0.020705</td>\n      <td>0.024493</td>\n      <td>...</td>\n      <td>0.115163</td>\n      <td>0.117910</td>\n      <td>0.120869</td>\n      <td>0.123986</td>\n      <td>0.127094</td>\n      <td>0.129613</td>\n      <td>0.131437</td>\n      <td>0.132614</td>\n      <td>0.133136</td>\n      <td>0.133000</td>\n    </tr>\n    <tr>\n      <th>2</th>\n      <td>41649</td>\n      <td>ch11</td>\n      <td>1.0</td>\n      <td>0.017600</td>\n      <td>10.0</td>\n      <td>0.051000</td>\n      <td>0.050911</td>\n      <td>0.050553</td>\n      <td>0.049928</td>\n      <td>0.049035</td>\n      <td>...</td>\n      <td>0.017358</td>\n      <td>0.019915</td>\n      <td>0.023375</td>\n      <td>0.026494</td>\n      <td>0.028777</td>\n      <td>0.030293</td>\n      <td>0.031837</td>\n      <td>0.033637</td>\n      <td>0.035691</td>\n      <td>0.038000</td>\n    </tr>\n    <tr>\n      <th>3</th>\n      <td>41649</td>\n      <td>ch11</td>\n      <td>0.0</td>\n      <td>0.016390</td>\n      <td>10.0</td>\n      <td>-0.009367</td>\n      <td>-0.006322</td>\n      <td>-0.003447</td>\n      <td>-0.000969</td>\n      <td>0.000002</td>\n      <td>...</td>\n      <td>0.030438</td>\n      <td>0.028142</td>\n      <td>0.026082</td>\n      <td>0.023952</td>\n      <td>0.022153</td>\n      <td>0.021232</td>\n      <td>0.021357</td>\n      <td>0.022458</td>\n      <td>0.024524</td>\n      <td>0.027556</td>\n    </tr>\n    <tr>\n      <th>4</th>\n      <td>41649</td>\n      <td>ch11</td>\n      <td>1.0</td>\n      <td>0.015381</td>\n      <td>10.0</td>\n      <td>0.074073</td>\n      <td>0.073189</td>\n      <td>0.072425</td>\n      <td>0.071784</td>\n      <td>0.070848</td>\n      <td>...</td>\n      <td>-0.056633</td>\n      <td>-0.055225</td>\n      <td>-0.052649</td>\n      <td>-0.048840</td>\n      <td>-0.043757</td>\n      <td>-0.036748</td>\n      <td>-0.027419</td>\n      <td>-0.016791</td>\n      <td>-0.005622</td>\n      <td>0.006088</td>\n    </tr>\n  </tbody>\n</table>\n<p>5 rows × 517 columns</p>\n</div>"
     },
     "execution_count": 2,
     "metadata": {},
     "output_type": "execute_result"
    }
   ],
   "source": [
    "path_file = \"D:\\Edu\\Lab\\Bin_Classifier_Project\\data/41649_result_data_v1.csv\"   # total_data_v4\n",
    "\n",
    "df = pd.read_csv(path_file)\n",
    "df.head()"
   ],
   "metadata": {
    "collapsed": false,
    "ExecuteTime": {
     "start_time": "2024-03-22T13:05:01.940406Z",
     "end_time": "2024-03-22T13:05:02.046431Z"
    }
   }
  },
  {
   "cell_type": "code",
   "execution_count": 3,
   "outputs": [
    {
     "data": {
      "text/plain": "(654, 2)"
     },
     "execution_count": 3,
     "metadata": {},
     "output_type": "execute_result"
    }
   ],
   "source": [
    "stats_df = pd.DataFrame(np.column_stack([df.Y, df.Length]), columns=[\"Y\", \"Length\"])\n",
    "signal_fragments = df.loc[:, df.columns[5:]].to_numpy()\n",
    "stats_df.shape"
   ],
   "metadata": {
    "collapsed": false,
    "ExecuteTime": {
     "start_time": "2024-03-22T13:05:02.535825Z",
     "end_time": "2024-03-22T13:05:02.554828Z"
    }
   }
  },
  {
   "cell_type": "code",
   "execution_count": 4,
   "outputs": [],
   "source": [
    "def find_max_num(arr: np.array, arr2: np.array = None):\n",
    "    f_increase = False\n",
    "    max_count = 0\n",
    "    max_v = 0\n",
    "    maximums = []\n",
    "\n",
    "    for i in range(1, arr.shape[0]):\n",
    "        if not f_increase and arr[i - 1] < arr[i]:\n",
    "            f_increase = True\n",
    "            max_v = arr[i]\n",
    "            # print(arr[i - 1], arr[i])\n",
    "        if f_increase:\n",
    "            max_v = max(arr[i], max_v)\n",
    "            if arr[i - 1] > arr[i] and abs(max_v - arr[i]) / max_v > 0.3:\n",
    "                f_increase = False\n",
    "                # print(max_v, arr[i], abs(max_v - arr[i]) / max_v, \"\\n\")\n",
    "                maximums.append(max_v)\n",
    "                max_count += 1\n",
    "    if len(maximums) > 0:\n",
    "        if arr2 is not None:\n",
    "            max_max_freq = arr2[arr == max(maximums)][0]\n",
    "        else:\n",
    "            max_max_freq = -1.0\n",
    "        if len(maximums) > 1:\n",
    "            maximums = np.array(maximums)\n",
    "            mean_max_ratio = (maximums[maximums != maximums.max()] / maximums.max()).max()\n",
    "        else:\n",
    "            mean_max_ratio = 1.0\n",
    "    else:\n",
    "        return [0.0, 0.0, -1.0]\n",
    "\n",
    "    return [max_count, mean_max_ratio, max_max_freq]\n",
    "\n",
    "\n",
    "def down_to_zero(x, edge=0.05):\n",
    "    return x if x > edge else 0.0\n",
    "\n",
    "\n",
    "def fragment_fft(arr: np.array):\n",
    "    fft = np.fft.fft(arr)\n",
    "    fft_v = fft.real ** 2 + fft.imag ** 2\n",
    "\n",
    "    filter_values = np.vectorize(lambda x: down_to_zero(x, edge=fft_v.max() * 0.2))\n",
    "    fft_v_filter = filter_values(fft_v)\n",
    "\n",
    "    frequency = np.unique(np.abs(np.fft.fftfreq(arr.shape[0])))\n",
    "    fft_v_filter = fft_v_filter[:frequency.shape[0]]\n",
    "\n",
    "    return [frequency, fft_v_filter]"
   ],
   "metadata": {
    "collapsed": false,
    "ExecuteTime": {
     "start_time": "2024-03-22T13:05:03.448998Z",
     "end_time": "2024-03-22T13:05:03.490000Z"
    }
   }
  },
  {
   "cell_type": "code",
   "execution_count": 9,
   "outputs": [
    {
     "data": {
      "text/plain": "(654, 4)"
     },
     "execution_count": 9,
     "metadata": {},
     "output_type": "execute_result"
    }
   ],
   "source": [
    "from scipy.stats import skew\n",
    "\n",
    "fft_stats = []\n",
    "for i in range(signal_fragments.shape[0]):\n",
    "    signal_data = signal_fragments[i]\n",
    "    max_point, min_point = signal_data.max(), signal_data.min()\n",
    "    # normalise all values\n",
    "    # signal_data = (signal_data - (max_point + min_point) / 2) / (max_point - min_point)\n",
    "\n",
    "    n_diff = 1\n",
    "    signal_data_d1 = np.diff(signal_data, n=n_diff)\n",
    "\n",
    "    b, a = signal.butter(5, 0.1)\n",
    "    signal_data_f = signal.filtfilt(b, a, signal_data_d1)\n",
    "\n",
    "    fft = np.fft.fft(signal_data_f)\n",
    "    fft_v = fft.real ** 2 + fft.imag ** 2\n",
    "\n",
    "    filter_values = np.vectorize(lambda x: down_to_zero(x, edge=fft_v.max() * 0.05))\n",
    "    fft_v_filter = filter_values(fft_v)  # fft_v\n",
    "\n",
    "    frequency = np.unique(np.abs(np.fft.fftfreq(signal_data_f.shape[0])))\n",
    "    fft_v_filter = fft_v_filter[:frequency.shape[0]]\n",
    "\n",
    "    # print(fft_v[(frequency > 0) & (frequency < 0.1)])\n",
    "    fft_stats.append(find_max_num(fft_v_filter, frequency) + [np.abs(skew(signal_data))])\n",
    "\n",
    "fft_stats = np.array(fft_stats)\n",
    "# fft_stats = np.column_stack([fft_stats, signal_fragments])\n",
    "fft_stats.shape"
   ],
   "metadata": {
    "collapsed": false,
    "ExecuteTime": {
     "start_time": "2024-03-22T15:27:51.267935Z",
     "end_time": "2024-03-22T15:27:52.785965Z"
    }
   }
  },
  {
   "cell_type": "code",
   "execution_count": 10,
   "outputs": [],
   "source": [
    "# def get_fft_stats(fragment: np.array):\n",
    "#     fragment_d1 = np.diff(fragment, n=1)\n",
    "#     b, a = signal.butter(5, 0.1)\n",
    "#\n",
    "#     filtered_fragment = signal.filtfilt(b, a, fragment_d1)\n",
    "#     freq, fft = fragment_fft(filtered_fragment)\n",
    "#     return np.array(find_max_num(freq, fft))\n",
    "#\n",
    "# def fragments_d1(fragment: np.array):\n",
    "#     # print(fragment)\n",
    "#     return np.diff(fragment, n=1)\n",
    "#\n",
    "# # signal_fragments_d1 = np.apply_along_axis(fragments_d1, 1, signal_fragments)\n",
    "#\n",
    "# fft_stats = np.apply_along_axis(get_fft_stats, 1, signal_fragments)\n",
    "# fft_stats.shape"
   ],
   "metadata": {
    "collapsed": false,
    "ExecuteTime": {
     "start_time": "2024-03-22T15:27:55.366650Z",
     "end_time": "2024-03-22T15:27:55.386848Z"
    }
   }
  },
  {
   "cell_type": "code",
   "execution_count": 11,
   "outputs": [
    {
     "name": "stdout",
     "output_type": "stream",
     "text": [
      "(654, 6)\n"
     ]
    },
    {
     "data": {
      "text/plain": "     Y    Length  max_count  mean_max_ratio  max_freq  skewness\n0  1.0  0.015900        1.0        1.000000  0.015656  0.237655\n1  0.0  0.013423        3.0        0.596221  0.019569  0.107958\n2  1.0  0.017600        1.0        1.000000  0.015656  0.309653\n3  0.0  0.016390        8.0        0.492741  0.029354  0.127061\n4  1.0  0.015381        7.0        0.796791  0.019569  0.287986",
      "text/html": "<div>\n<style scoped>\n    .dataframe tbody tr th:only-of-type {\n        vertical-align: middle;\n    }\n\n    .dataframe tbody tr th {\n        vertical-align: top;\n    }\n\n    .dataframe thead th {\n        text-align: right;\n    }\n</style>\n<table border=\"1\" class=\"dataframe\">\n  <thead>\n    <tr style=\"text-align: right;\">\n      <th></th>\n      <th>Y</th>\n      <th>Length</th>\n      <th>max_count</th>\n      <th>mean_max_ratio</th>\n      <th>max_freq</th>\n      <th>skewness</th>\n    </tr>\n  </thead>\n  <tbody>\n    <tr>\n      <th>0</th>\n      <td>1.0</td>\n      <td>0.015900</td>\n      <td>1.0</td>\n      <td>1.000000</td>\n      <td>0.015656</td>\n      <td>0.237655</td>\n    </tr>\n    <tr>\n      <th>1</th>\n      <td>0.0</td>\n      <td>0.013423</td>\n      <td>3.0</td>\n      <td>0.596221</td>\n      <td>0.019569</td>\n      <td>0.107958</td>\n    </tr>\n    <tr>\n      <th>2</th>\n      <td>1.0</td>\n      <td>0.017600</td>\n      <td>1.0</td>\n      <td>1.000000</td>\n      <td>0.015656</td>\n      <td>0.309653</td>\n    </tr>\n    <tr>\n      <th>3</th>\n      <td>0.0</td>\n      <td>0.016390</td>\n      <td>8.0</td>\n      <td>0.492741</td>\n      <td>0.029354</td>\n      <td>0.127061</td>\n    </tr>\n    <tr>\n      <th>4</th>\n      <td>1.0</td>\n      <td>0.015381</td>\n      <td>7.0</td>\n      <td>0.796791</td>\n      <td>0.019569</td>\n      <td>0.287986</td>\n    </tr>\n  </tbody>\n</table>\n</div>"
     },
     "execution_count": 11,
     "metadata": {},
     "output_type": "execute_result"
    }
   ],
   "source": [
    "stats_df[[\"max_count\", \"mean_max_ratio\", \"max_freq\", \"skewness\"]] = fft_stats\n",
    "\n",
    "print(stats_df.shape)\n",
    "stats_df.head()"
   ],
   "metadata": {
    "collapsed": false,
    "ExecuteTime": {
     "start_time": "2024-03-22T15:27:55.569896Z",
     "end_time": "2024-03-22T15:27:55.613772Z"
    }
   }
  },
  {
   "cell_type": "code",
   "execution_count": 12,
   "outputs": [
    {
     "name": "stdout",
     "output_type": "stream",
     "text": [
      "              Length           mean_max_ratio           max_freq            \\\n",
      "               count      mean          count      mean    count      mean   \n",
      "Y   max_count                                                                \n",
      "0.0 1.0            2  0.011600              2  1.000000        2  0.009785   \n",
      "    2.0           28  0.010429             28  0.322602       28  0.013629   \n",
      "    3.0           54  0.013010             54  0.460877       54  0.015148   \n",
      "    4.0          100  0.015561            100  0.543004      100  0.017084   \n",
      "    5.0          106  0.017679            106  0.600608      106  0.019920   \n",
      "    6.0           80  0.018949             80  0.691660       80  0.021233   \n",
      "    7.0           64  0.022517             64  0.700724       64  0.025501   \n",
      "    8.0           39  0.024395             39  0.679601       39  0.025440   \n",
      "    9.0           24  0.024363             24  0.789530       24  0.025603   \n",
      "    10.0           5  0.020840              5  0.780846        5  0.024658   \n",
      "    11.0           1  0.023200              1  0.590215        1  0.031311   \n",
      "    12.0           1  0.012800              1  0.982254        1  0.007828   \n",
      "1.0 1.0           10  0.014746             10  1.000000       10  0.016047   \n",
      "    2.0           14  0.014167             14  0.132201       14  0.014817   \n",
      "    3.0           36  0.015233             36  0.275825       36  0.019841   \n",
      "    4.0           29  0.016410             29  0.410972       29  0.020312   \n",
      "    5.0           30  0.020206             30  0.558010       30  0.023940   \n",
      "    6.0           22  0.025387             22  0.690661       22  0.027308   \n",
      "    7.0            7  0.026999              7  0.769565        7  0.029075   \n",
      "    9.0            2  0.030800              2  0.761530        2  0.040117   \n",
      "\n",
      "              skewness            \n",
      "                 count      mean  \n",
      "Y   max_count                     \n",
      "0.0 1.0              2  1.021772  \n",
      "    2.0             28  0.450381  \n",
      "    3.0             54  0.324209  \n",
      "    4.0            100  0.281156  \n",
      "    5.0            106  0.344644  \n",
      "    6.0             80  0.367719  \n",
      "    7.0             64  0.275796  \n",
      "    8.0             39  0.296787  \n",
      "    9.0             24  0.349166  \n",
      "    10.0             5  0.229669  \n",
      "    11.0             1  0.008548  \n",
      "    12.0             1  0.187381  \n",
      "1.0 1.0             10  0.363190  \n",
      "    2.0             14  0.309508  \n",
      "    3.0             36  0.300344  \n",
      "    4.0             29  0.315544  \n",
      "    5.0             30  0.249692  \n",
      "    6.0             22  0.248718  \n",
      "    7.0              7  0.208571  \n",
      "    9.0              2  0.342998  \n"
     ]
    }
   ],
   "source": [
    "print(stats_df.groupby([\"Y\", \"max_count\"]).agg([\"count\", \"mean\"]))  # [[\"mean_max_ratio\", \"max_freq\"]]"
   ],
   "metadata": {
    "collapsed": false,
    "ExecuteTime": {
     "start_time": "2024-03-22T15:27:58.588121Z",
     "end_time": "2024-03-22T15:27:58.635868Z"
    }
   }
  },
  {
   "cell_type": "code",
   "execution_count": 151,
   "outputs": [],
   "source": [
    "def plot_signal_fft(log_df, fig, axs):\n",
    "    x_ = np.arange(0, 512, 1)\n",
    "\n",
    "    for col in log_df.columns[1:]:\n",
    "        y_ = log_df[col]\n",
    "\n",
    "        fft = np.fft.fft(y_)\n",
    "        fft_v = fft.real ** 2 + fft.imag ** 2\n",
    "\n",
    "        # filter_values = np.vectorize(lambda x: down_to_zero(x, edge=fft_v.max() * 0.2))\n",
    "        fft_v_filter = fft_v  # filter_values(fft_v)\n",
    "\n",
    "        frequency = np.unique(np.abs(np.fft.fftfreq(y_.shape[0])))\n",
    "        fft_v_filter = fft_v_filter[:frequency.shape[0]]\n",
    "        m, r, f = find_max_num(fft_v_filter)\n",
    "        axs[0].plot(frequency, fft_v_filter, label=f\"{col}. C_max: {m}, Rat: {round(r, 2)}, Fr: {round(f, 2)}\")\n",
    "        axs[1].plot(x_, y_, label=col)\n",
    "\n",
    "    axs[0].set_title(f'FFT', fontdict={'fontsize': 10}, loc=\"left\")\n",
    "    axs[0].set_xlabel('Freq [Hz]')\n",
    "    axs[0].grid(True)\n",
    "    axs[0].set_ylim([0, 25])\n",
    "    axs[0].legend(loc='upper left', borderaxespad=0.)  # bbox_to_anchor=(0.005, 1),\n",
    "\n",
    "    axs[1].set_title(f\"Signal\", fontdict={'fontsize': 10}, loc=\"left\")\n",
    "    axs[1].set_xlabel('Points')\n",
    "    axs[1].legend(loc='upper left', borderaxespad=0.)\n",
    "    # x_min = log_df[\"t\"].min()\n",
    "    # x_max = log_df[\"t\"].max()\n",
    "    # try:\n",
    "    #     axs[1].set_xticks(np.round(np.arange(x_min, x_max + 1e-3, (x_max - x_min) / 8), 5))\n",
    "    # except ValueError as e:\n",
    "    #     pass\n",
    "    axs[1].grid(True)"
   ],
   "metadata": {
    "collapsed": false,
    "ExecuteTime": {
     "start_time": "2024-03-21T23:04:35.757977Z",
     "end_time": "2024-03-21T23:04:35.787003Z"
    }
   }
  },
  {
   "cell_type": "code",
   "execution_count": 149,
   "outputs": [
    {
     "name": "stdout",
     "output_type": "stream",
     "text": [
      "[  5  14  22  25  26  32  38  39  44  45  47  50  52  53  57  58  59  60\n",
      "  62  64  65  68  72  73  74  75  82  85  86  92  93  97  98  99 100 101\n",
      " 104 105 108 112 113 119 120 122 123 126 128 129 130 131 136 149 151 157\n",
      " 163 168 170 171 177 178 181 183 184 190 192 194 195 197 199 202 204 206\n",
      " 210 213 214 215 216 217 222 223 224 226 229 236 237 239 240 242 243 245\n",
      " 247 248 249 250 253 255 260 265 266 268 269 270 272 274 275 277 279 282\n",
      " 283 287 288 290 291 292 293 294 295 296 297 299 300 302 305 307 308 309\n",
      " 310 313 316 318 319 321 322 324 327 329 331 332 335 341 343 345 347 350\n",
      " 351 353 355 356 358 359 360 365 369 372 374 376 378 379 381 383 386 387\n",
      " 388 390 392 396 397 398 401 403 404 405 406 408 413 416 418 419 420 424\n",
      " 426 427 429 431 432 433 435 436 439 441 442 447 448 449 451 454 455 456\n",
      " 457 461 464 465 470 472 473 474 475 477 478 479 483 486 487 488 489 492\n",
      " 494 495 497 498 499 501 502 504 505 507 509 510 511 512 513 514 515 517\n",
      " 518 523 527 528 530 531 533 535 536 538 540 543 544 546 548 552 553 554\n",
      " 556 557 558 561 564 565 567 569 572 573 574 575 582 583 586 588 589 594\n",
      " 595 596 597 598 599 600 602 603 608 609 611 612 613 614 615 617 619 620\n",
      " 622 623 625 627 631 635 636 637 638 639 642 643 648 651 652 654 656 657\n",
      " 659 661 662 664 671 673 674 675 676 677 679 681 682 683 685 686 687 689\n",
      " 690 694 697 698] 328\n"
     ]
    }
   ],
   "source": [
    "marks = stats_df[\"Y\"].to_numpy()\n",
    "max_count = stats_df[\"max_count\"].to_numpy()\n",
    "\n",
    "fil_ids = np.where((marks == 1) & (max_count > 2))[0]\n",
    "print(fil_ids, fil_ids.shape[0])"
   ],
   "metadata": {
    "collapsed": false,
    "ExecuteTime": {
     "start_time": "2024-03-21T23:04:01.545955Z",
     "end_time": "2024-03-21T23:04:01.557957Z"
    }
   }
  },
  {
   "cell_type": "code",
   "execution_count": 158,
   "outputs": [],
   "source": [
    "for i in range(min(fil_ids.shape[0], 10)):\n",
    "    signal_data = signal_fragments[fil_ids[i]]\n",
    "\n",
    "    n_diff = 1\n",
    "    signal_data_d1 = np.diff(signal_data, n=n_diff)\n",
    "\n",
    "    log_df = pd.DataFrame(np.column_stack([np.arange(0, 512, 1), signal_data]), columns=[\"t\", \"ch11\"])\n",
    "    log_df[\"ch11\"] = signal_data\n",
    "    # if log_df is not None:\n",
    "    #     log_df[f\"ch11_{n_diff}d\"] = np.concatenate([np.diff(signal_data, n=n_diff), [0]*n_diff])\n",
    "\n",
    "    # sos = signal.butter(5, 0.1, output=\"sos\")\n",
    "    #\n",
    "    # signal_data_d1 = signal.sosfilt(sos, signal_data_d1)\n",
    "\n",
    "    b, a = signal.butter(5, 0.1)\n",
    "\n",
    "    signal_data_d1 = signal.filtfilt(b, a, signal_data_d1)\n",
    "    log_df[\"ch11_b\"] = np.concatenate([signal_data_d1, [0] * n_diff])\n",
    "\n",
    "    # m = signal_data_d1.mean()\n",
    "    # std = signal_data_d1.std()\n",
    "    # log_df[\"ch11_mn\"] = np.array([m] * (signal_data_d1.shape[0]+1))\n",
    "    # log_df[\"ch11_std\"] = np.array([m + std] * (signal_data_d1.shape[0]+1))\n",
    "    # log_df[\"ch11_-std\"] = np.array([m - std] * (signal_data_d1.shape[0]+1))\n",
    "\n",
    "    fig, axs = plt.subplots(2, 1, figsize=(6, 5))\n",
    "    # plt.tight_layout()\n",
    "    plot_signal_fft(log_df, fig, axs)\n",
    "    plt.savefig(f\"img/1/41226/fragment_41226_{fil_ids[i]}.png\")\n",
    "    # plt.show()\n",
    "    plt.close()"
   ],
   "metadata": {
    "collapsed": false,
    "ExecuteTime": {
     "start_time": "2024-03-21T23:11:05.363576Z",
     "end_time": "2024-03-21T23:11:07.149466Z"
    }
   }
  },
  {
   "cell_type": "code",
   "execution_count": null,
   "outputs": [],
   "source": [],
   "metadata": {
    "collapsed": false
   }
  }
 ],
 "metadata": {
  "kernelspec": {
   "display_name": "Python 3",
   "language": "python",
   "name": "python3"
  },
  "language_info": {
   "codemirror_mode": {
    "name": "ipython",
    "version": 2
   },
   "file_extension": ".py",
   "mimetype": "text/x-python",
   "name": "python",
   "nbconvert_exporter": "python",
   "pygments_lexer": "ipython2",
   "version": "2.7.6"
  }
 },
 "nbformat": 4,
 "nbformat_minor": 0
}
