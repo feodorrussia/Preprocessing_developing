{
 "cells": [
  {
   "cell_type": "code",
   "execution_count": 1,
   "metadata": {
    "collapsed": true,
    "ExecuteTime": {
     "start_time": "2024-03-21T18:17:44.259976Z",
     "end_time": "2024-03-21T18:17:45.816218Z"
    }
   },
   "outputs": [],
   "source": [
    "\n",
    "import matplotlib.pyplot as plt\n",
    "import numpy as np\n",
    "import pandas as pd\n",
    "from scipy import signal"
   ]
  },
  {
   "cell_type": "code",
   "execution_count": 122,
   "outputs": [
    {
     "data": {
      "text/plain": "    D_ID   Ch    Y  Length  Rate         0         1         2         3  \\\n0  41226  ch3  0.0   0.021   4.0  0.796870  0.805668  0.813404  0.820079   \n1  41226  ch3  0.0   0.025   4.0  0.384770  0.361413  0.341766  0.325828   \n2  41226  ch3  0.0   0.023   4.0  0.169920  0.174718  0.178798  0.182162   \n3  41226  ch3  0.0   0.021   4.0  0.476560  0.499920  0.519142  0.534226   \n4  41226  ch3  0.0   0.025   4.0  0.021484  0.025230  0.036639  0.055710   \n\n          4  ...       502       503       504       505       506       507  \\\n0  0.825693  ... -0.546500 -0.528759 -0.505209 -0.475852 -0.440686 -0.399711   \n1  0.313599  ...  0.345798  0.364561  0.387407  0.405740  0.418579  0.425926   \n2  0.184809  ... -0.401508 -0.429319 -0.453263 -0.471913 -0.485271 -0.493335   \n3  0.545171  ...  0.839651  0.860380  0.873599  0.879308  0.877508  0.868198   \n4  0.082443  ...  0.352659  0.362767  0.373820  0.380639  0.382823  0.380373   \n\n        508       509       510      511  \n0 -0.352928 -0.300337 -0.241938 -0.17773  \n1  0.427781  0.424143  0.415013  0.40039  \n2 -0.496106 -0.493584 -0.485769 -0.47266  \n3  0.851378  0.827048  0.795209  0.75586  \n4  0.373287  0.361566  0.345211  0.32422  \n\n[5 rows x 517 columns]",
      "text/html": "<div>\n<style scoped>\n    .dataframe tbody tr th:only-of-type {\n        vertical-align: middle;\n    }\n\n    .dataframe tbody tr th {\n        vertical-align: top;\n    }\n\n    .dataframe thead th {\n        text-align: right;\n    }\n</style>\n<table border=\"1\" class=\"dataframe\">\n  <thead>\n    <tr style=\"text-align: right;\">\n      <th></th>\n      <th>D_ID</th>\n      <th>Ch</th>\n      <th>Y</th>\n      <th>Length</th>\n      <th>Rate</th>\n      <th>0</th>\n      <th>1</th>\n      <th>2</th>\n      <th>3</th>\n      <th>4</th>\n      <th>...</th>\n      <th>502</th>\n      <th>503</th>\n      <th>504</th>\n      <th>505</th>\n      <th>506</th>\n      <th>507</th>\n      <th>508</th>\n      <th>509</th>\n      <th>510</th>\n      <th>511</th>\n    </tr>\n  </thead>\n  <tbody>\n    <tr>\n      <th>0</th>\n      <td>41226</td>\n      <td>ch3</td>\n      <td>0.0</td>\n      <td>0.021</td>\n      <td>4.0</td>\n      <td>0.796870</td>\n      <td>0.805668</td>\n      <td>0.813404</td>\n      <td>0.820079</td>\n      <td>0.825693</td>\n      <td>...</td>\n      <td>-0.546500</td>\n      <td>-0.528759</td>\n      <td>-0.505209</td>\n      <td>-0.475852</td>\n      <td>-0.440686</td>\n      <td>-0.399711</td>\n      <td>-0.352928</td>\n      <td>-0.300337</td>\n      <td>-0.241938</td>\n      <td>-0.17773</td>\n    </tr>\n    <tr>\n      <th>1</th>\n      <td>41226</td>\n      <td>ch3</td>\n      <td>0.0</td>\n      <td>0.025</td>\n      <td>4.0</td>\n      <td>0.384770</td>\n      <td>0.361413</td>\n      <td>0.341766</td>\n      <td>0.325828</td>\n      <td>0.313599</td>\n      <td>...</td>\n      <td>0.345798</td>\n      <td>0.364561</td>\n      <td>0.387407</td>\n      <td>0.405740</td>\n      <td>0.418579</td>\n      <td>0.425926</td>\n      <td>0.427781</td>\n      <td>0.424143</td>\n      <td>0.415013</td>\n      <td>0.40039</td>\n    </tr>\n    <tr>\n      <th>2</th>\n      <td>41226</td>\n      <td>ch3</td>\n      <td>0.0</td>\n      <td>0.023</td>\n      <td>4.0</td>\n      <td>0.169920</td>\n      <td>0.174718</td>\n      <td>0.178798</td>\n      <td>0.182162</td>\n      <td>0.184809</td>\n      <td>...</td>\n      <td>-0.401508</td>\n      <td>-0.429319</td>\n      <td>-0.453263</td>\n      <td>-0.471913</td>\n      <td>-0.485271</td>\n      <td>-0.493335</td>\n      <td>-0.496106</td>\n      <td>-0.493584</td>\n      <td>-0.485769</td>\n      <td>-0.47266</td>\n    </tr>\n    <tr>\n      <th>3</th>\n      <td>41226</td>\n      <td>ch3</td>\n      <td>0.0</td>\n      <td>0.021</td>\n      <td>4.0</td>\n      <td>0.476560</td>\n      <td>0.499920</td>\n      <td>0.519142</td>\n      <td>0.534226</td>\n      <td>0.545171</td>\n      <td>...</td>\n      <td>0.839651</td>\n      <td>0.860380</td>\n      <td>0.873599</td>\n      <td>0.879308</td>\n      <td>0.877508</td>\n      <td>0.868198</td>\n      <td>0.851378</td>\n      <td>0.827048</td>\n      <td>0.795209</td>\n      <td>0.75586</td>\n    </tr>\n    <tr>\n      <th>4</th>\n      <td>41226</td>\n      <td>ch3</td>\n      <td>0.0</td>\n      <td>0.025</td>\n      <td>4.0</td>\n      <td>0.021484</td>\n      <td>0.025230</td>\n      <td>0.036639</td>\n      <td>0.055710</td>\n      <td>0.082443</td>\n      <td>...</td>\n      <td>0.352659</td>\n      <td>0.362767</td>\n      <td>0.373820</td>\n      <td>0.380639</td>\n      <td>0.382823</td>\n      <td>0.380373</td>\n      <td>0.373287</td>\n      <td>0.361566</td>\n      <td>0.345211</td>\n      <td>0.32422</td>\n    </tr>\n  </tbody>\n</table>\n<p>5 rows × 517 columns</p>\n</div>"
     },
     "execution_count": 122,
     "metadata": {},
     "output_type": "execute_result"
    }
   ],
   "source": [
    "path_file = \"D:\\Edu\\Lab\\Bin_Classifier_Project\\data/total_data_v4.csv\"   # 41649_result_data_v1\n",
    "\n",
    "df = pd.read_csv(path_file)\n",
    "df.head()"
   ],
   "metadata": {
    "collapsed": false,
    "ExecuteTime": {
     "start_time": "2024-03-21T22:00:44.496536Z",
     "end_time": "2024-03-21T22:00:44.643970Z"
    }
   }
  },
  {
   "cell_type": "code",
   "execution_count": 123,
   "outputs": [
    {
     "data": {
      "text/plain": "(702, 2)"
     },
     "execution_count": 123,
     "metadata": {},
     "output_type": "execute_result"
    }
   ],
   "source": [
    "stats_df = pd.DataFrame(np.column_stack([df.Y, df.Length]), columns=[\"Y\", \"Length\"])\n",
    "signal_fragments = df.loc[:, df.columns[5:]].to_numpy()\n",
    "stats_df.shape"
   ],
   "metadata": {
    "collapsed": false,
    "ExecuteTime": {
     "start_time": "2024-03-21T22:00:47.776711Z",
     "end_time": "2024-03-21T22:00:47.798821Z"
    }
   }
  },
  {
   "cell_type": "code",
   "execution_count": 124,
   "outputs": [],
   "source": [
    "def find_max_num(arr: np.array, arr2: np.array = None):\n",
    "    f_increase = False\n",
    "    max_count = 0\n",
    "    max_v = 0\n",
    "    maximums = []\n",
    "\n",
    "    for i in range(1, arr.shape[0]):\n",
    "        if not f_increase and arr[i - 1] < arr[i]:\n",
    "            f_increase = True\n",
    "            max_v = arr[i]\n",
    "            # print(arr[i - 1], arr[i])\n",
    "        if f_increase:\n",
    "            max_v = max(arr[i], max_v)\n",
    "            if arr[i - 1] > arr[i] and abs(max_v - arr[i]) / max_v > 0.3:\n",
    "                f_increase = False\n",
    "                # print(max_v, arr[i], abs(max_v - arr[i]) / max_v, \"\\n\")\n",
    "                maximums.append(max_v)\n",
    "                max_count += 1\n",
    "    if len(maximums) > 0:\n",
    "        if arr2 is not None:\n",
    "            max_max_freq = arr2[arr == max(maximums)][0]\n",
    "        else:\n",
    "            max_max_freq = -1.0\n",
    "        if len(maximums) > 1:\n",
    "            maximums = np.array(maximums)\n",
    "            mean_max_ratio = (maximums[maximums != maximums.max()] / maximums.max()).max()\n",
    "        else:\n",
    "            mean_max_ratio = 1.0\n",
    "    else:\n",
    "        return [0.0, 0.0, -1.0]\n",
    "\n",
    "    return [max_count, mean_max_ratio, max_max_freq]\n",
    "\n",
    "\n",
    "def down_to_zero(x, edge=0.05):\n",
    "    return x if x > edge else 0.0\n",
    "\n",
    "\n",
    "def fragment_fft(arr: np.array):\n",
    "    fft = np.fft.fft(arr)\n",
    "    fft_v = fft.real ** 2 + fft.imag ** 2\n",
    "\n",
    "    filter_values = np.vectorize(lambda x: down_to_zero(x, edge=fft_v.max() * 0.2))\n",
    "    fft_v_filter = filter_values(fft_v)\n",
    "\n",
    "    frequency = np.unique(np.abs(np.fft.fftfreq(arr.shape[0])))\n",
    "    fft_v_filter = fft_v_filter[:frequency.shape[0]]\n",
    "\n",
    "    return [frequency, fft_v_filter]"
   ],
   "metadata": {
    "collapsed": false,
    "ExecuteTime": {
     "start_time": "2024-03-21T22:00:49.270555Z",
     "end_time": "2024-03-21T22:00:49.302562Z"
    }
   }
  },
  {
   "cell_type": "code",
   "execution_count": 125,
   "outputs": [
    {
     "data": {
      "text/plain": "(702, 3)"
     },
     "execution_count": 125,
     "metadata": {},
     "output_type": "execute_result"
    }
   ],
   "source": [
    "fft_stats = []\n",
    "for i in range(signal_fragments.shape[0]):\n",
    "    signal_data = signal_fragments[i]\n",
    "    max_point, min_point = signal_data.max(), signal_data.min()\n",
    "    # normalise all values\n",
    "    # signal_data = (signal_data - (max_point + min_point) / 2) / (max_point - min_point)\n",
    "\n",
    "    n_diff = 1\n",
    "    signal_data_d1 = np.diff(signal_data, n=n_diff)\n",
    "\n",
    "    b, a = signal.butter(5, 0.1)\n",
    "    signal_data_f = signal.filtfilt(b, a, signal_data_d1)\n",
    "\n",
    "    fft = np.fft.fft(signal_data_f)\n",
    "    fft_v = fft.real ** 2 + fft.imag ** 2\n",
    "\n",
    "    filter_values = np.vectorize(lambda x: down_to_zero(x, edge=fft_v.max() * 0.05))\n",
    "    fft_v_filter = filter_values(fft_v)  # fft_v\n",
    "\n",
    "    frequency = np.unique(np.abs(np.fft.fftfreq(signal_data_f.shape[0])))\n",
    "    fft_v_filter = fft_v_filter[:frequency.shape[0]]\n",
    "\n",
    "    # print(fft_v[(frequency > 0) & (frequency < 0.1)])\n",
    "    fft_stats.append(find_max_num(fft_v_filter, frequency))\n",
    "\n",
    "fft_stats = np.array(fft_stats)\n",
    "# fft_stats = np.column_stack([fft_stats, signal_fragments])\n",
    "fft_stats.shape"
   ],
   "metadata": {
    "collapsed": false,
    "ExecuteTime": {
     "start_time": "2024-03-21T22:00:51.029202Z",
     "end_time": "2024-03-21T22:00:53.607625Z"
    }
   }
  },
  {
   "cell_type": "code",
   "execution_count": 126,
   "outputs": [],
   "source": [
    "# def get_fft_stats(fragment: np.array):\n",
    "#     fragment_d1 = np.diff(fragment, n=1)\n",
    "#     b, a = signal.butter(5, 0.1)\n",
    "#\n",
    "#     filtered_fragment = signal.filtfilt(b, a, fragment_d1)\n",
    "#     freq, fft = fragment_fft(filtered_fragment)\n",
    "#     return np.array(find_max_num(freq, fft))\n",
    "#\n",
    "# def fragments_d1(fragment: np.array):\n",
    "#     # print(fragment)\n",
    "#     return np.diff(fragment, n=1)\n",
    "#\n",
    "# # signal_fragments_d1 = np.apply_along_axis(fragments_d1, 1, signal_fragments)\n",
    "#\n",
    "# fft_stats = np.apply_along_axis(get_fft_stats, 1, signal_fragments)\n",
    "# fft_stats.shape"
   ],
   "metadata": {
    "collapsed": false,
    "ExecuteTime": {
     "start_time": "2024-03-21T22:00:54.477656Z",
     "end_time": "2024-03-21T22:00:54.515661Z"
    }
   }
  },
  {
   "cell_type": "code",
   "execution_count": 127,
   "outputs": [
    {
     "name": "stdout",
     "output_type": "stream",
     "text": [
      "(702, 5)\n"
     ]
    },
    {
     "data": {
      "text/plain": "     Y  Length  max_count  mean_max_ratio  max_freq\n0  0.0   0.021        7.0        0.774922  0.011742\n1  0.0   0.025        6.0        0.557506  0.023483\n2  0.0   0.023        7.0        0.362513  0.015656\n3  0.0   0.021        7.0        0.786896  0.011742\n4  0.0   0.025        7.0        0.719183  0.021526",
      "text/html": "<div>\n<style scoped>\n    .dataframe tbody tr th:only-of-type {\n        vertical-align: middle;\n    }\n\n    .dataframe tbody tr th {\n        vertical-align: top;\n    }\n\n    .dataframe thead th {\n        text-align: right;\n    }\n</style>\n<table border=\"1\" class=\"dataframe\">\n  <thead>\n    <tr style=\"text-align: right;\">\n      <th></th>\n      <th>Y</th>\n      <th>Length</th>\n      <th>max_count</th>\n      <th>mean_max_ratio</th>\n      <th>max_freq</th>\n    </tr>\n  </thead>\n  <tbody>\n    <tr>\n      <th>0</th>\n      <td>0.0</td>\n      <td>0.021</td>\n      <td>7.0</td>\n      <td>0.774922</td>\n      <td>0.011742</td>\n    </tr>\n    <tr>\n      <th>1</th>\n      <td>0.0</td>\n      <td>0.025</td>\n      <td>6.0</td>\n      <td>0.557506</td>\n      <td>0.023483</td>\n    </tr>\n    <tr>\n      <th>2</th>\n      <td>0.0</td>\n      <td>0.023</td>\n      <td>7.0</td>\n      <td>0.362513</td>\n      <td>0.015656</td>\n    </tr>\n    <tr>\n      <th>3</th>\n      <td>0.0</td>\n      <td>0.021</td>\n      <td>7.0</td>\n      <td>0.786896</td>\n      <td>0.011742</td>\n    </tr>\n    <tr>\n      <th>4</th>\n      <td>0.0</td>\n      <td>0.025</td>\n      <td>7.0</td>\n      <td>0.719183</td>\n      <td>0.021526</td>\n    </tr>\n  </tbody>\n</table>\n</div>"
     },
     "execution_count": 127,
     "metadata": {},
     "output_type": "execute_result"
    }
   ],
   "source": [
    "stats_df[[\"max_count\", \"mean_max_ratio\", \"max_freq\"]] = fft_stats\n",
    "\n",
    "print(stats_df.shape)\n",
    "stats_df.head()"
   ],
   "metadata": {
    "collapsed": false,
    "ExecuteTime": {
     "start_time": "2024-03-21T22:00:55.339141Z",
     "end_time": "2024-03-21T22:00:55.373840Z"
    }
   }
  },
  {
   "cell_type": "code",
   "execution_count": 128,
   "outputs": [
    {
     "name": "stdout",
     "output_type": "stream",
     "text": [
      "              Length           mean_max_ratio           max_freq          \n",
      "               count      mean          count      mean    count      mean\n",
      "Y   max_count                                                             \n",
      "0.0 3.0            3  0.022000              3  0.519013        3  0.020874\n",
      "    4.0           22  0.019318             22  0.580734       22  0.022861\n",
      "    5.0           59  0.021068             59  0.669038       59  0.022986\n",
      "    6.0           94  0.021968             94  0.683773       94  0.022442\n",
      "    7.0          110  0.022709            110  0.679460      110  0.024337\n",
      "    8.0           59  0.021898             59  0.755692       59  0.022090\n",
      "    9.0           19  0.023947             19  0.747414       19  0.028839\n",
      "    10.0           2  0.023500              2  0.972209        2  0.022505\n",
      "    11.0           1  0.025000              1  0.701950        1  0.015656\n",
      "1.0 1.0            1  0.021000              1  1.000000        1  0.025440\n",
      "    2.0            4  0.016250              4  0.278433        4  0.020059\n",
      "    3.0           19  0.020474             19  0.427174       19  0.021732\n",
      "    4.0           51  0.020667             51  0.480243       51  0.022562\n",
      "    5.0           80  0.021362             80  0.605457       80  0.022921\n",
      "    6.0           95  0.021716             95  0.625816       95  0.023010\n",
      "    7.0           57  0.022281             57  0.672471       57  0.024273\n",
      "    8.0           23  0.021391             23  0.698326       23  0.025015\n",
      "    9.0            3  0.053667              3  0.767240        3  0.024788\n"
     ]
    }
   ],
   "source": [
    "print(stats_df.groupby([\"Y\", \"max_count\"]).agg([\"count\", \"mean\"]))  # [[\"mean_max_ratio\", \"max_freq\"]]"
   ],
   "metadata": {
    "collapsed": false,
    "ExecuteTime": {
     "start_time": "2024-03-21T22:00:56.201040Z",
     "end_time": "2024-03-21T22:00:56.225002Z"
    }
   }
  },
  {
   "cell_type": "code",
   "execution_count": 129,
   "outputs": [],
   "source": [
    "def plot_signal_fft(log_df, fig, axs):\n",
    "    x_ = np.arange(0, 512, 1)\n",
    "\n",
    "    for col in log_df.columns[1:]:\n",
    "        y_ = log_df[col]\n",
    "\n",
    "        fft = np.fft.fft(y_)\n",
    "        fft_v = fft.real ** 2 + fft.imag ** 2\n",
    "\n",
    "        # filter_values = np.vectorize(lambda x: down_to_zero(x, edge=fft_v.max() * 0.2))\n",
    "        fft_v_filter = fft_v  # filter_values(fft_v)\n",
    "\n",
    "        frequency = np.unique(np.abs(np.fft.fftfreq(y_.shape[0])))\n",
    "        fft_v_filter = fft_v_filter[:frequency.shape[0]]\n",
    "        m, r, f = find_max_num(fft_v_filter)\n",
    "        axs[0].plot(frequency, fft_v_filter, label=f\"{col}. C_max: {m}, Rat: {round(r, 2)}, Fr: {round(f, 2)}\")\n",
    "        axs[1].plot(x_, y_, label=col)\n",
    "\n",
    "    axs[0].set_title(f'FFT', fontdict={'fontsize': 10}, loc=\"left\")\n",
    "    axs[0].set_xlabel('Freq [Hz]')\n",
    "    axs[0].grid(True)\n",
    "    axs[0].set_ylim([0, 5])\n",
    "    axs[0].legend(loc='upper right', borderaxespad=0.)  # bbox_to_anchor=(0.005, 1),\n",
    "\n",
    "    axs[1].set_title(f\"Signal\", fontdict={'fontsize': 10}, loc=\"left\")\n",
    "    axs[1].set_xlabel('Time [milliseconds]')\n",
    "    axs[1].legend(bbox_to_anchor=(1.005, 1), loc='upper left', borderaxespad=0.)\n",
    "    x_min = log_df[\"t\"].min()\n",
    "    x_max = log_df[\"t\"].max()\n",
    "    try:\n",
    "        axs[1].set_xticks(np.round(np.arange(x_min, x_max + 1e-3, (x_max - x_min) / 8), 5))\n",
    "    except ValueError as e:\n",
    "        pass\n",
    "    axs[1].grid(True)"
   ],
   "metadata": {
    "collapsed": false,
    "ExecuteTime": {
     "start_time": "2024-03-21T22:02:14.917314Z",
     "end_time": "2024-03-21T22:02:14.963521Z"
    }
   }
  },
  {
   "cell_type": "code",
   "execution_count": 130,
   "outputs": [
    {
     "name": "stdout",
     "output_type": "stream",
     "text": [
      "[  5  14  22  25  26  32  38  39  44  45  47  50  52  53  57  58  59  60\n",
      "  62  64  65  68  72  73  74  75  82  85  86  92  93  97  98  99 100 101\n",
      " 104 105 108 112 113 119 120 122 123 126 128 129 130 131 136 149 151 157\n",
      " 163 168 170 171 177 178 181 183 184 190 192 194 195 197 199 202 204 206\n",
      " 210 213 214 215 216 217 222 223 224 226 229 236 237 239 240 242 243 245\n",
      " 247 248 249 250 253 255 260 265 266 268 269 270 272 274 275 277 279 282\n",
      " 283 287 288 290 291 292 293 294 295 296 297 299 300 302 305 307 308 309\n",
      " 310 313 316 318 319 321 322 324 327 329 331 332 335 341 343 345 347 350\n",
      " 351 353 355 356 358 359 360 365 369 372 374 376 378 379 381 383 386 387\n",
      " 388 390 392 396 397 398 401 403 404 405 406 408 413 416 418 419 420 424\n",
      " 426 427 429 431 432 433 435 436 439 441 442 447 448 449 451 454 455 456\n",
      " 457 461 464 465 470 472 473 474 475 477 478 479 483 486 487 488 489 492\n",
      " 494 495 497 498 499 501 502 504 505 507 509 510 511 512 513 514 515 517\n",
      " 518 523 527 528 530 531 533 535 536 538 540 543 544 546 548 552 553 554\n",
      " 556 557 558 561 564 565 567 569 572 573 574 575 582 583 586 588 589 594\n",
      " 595 596 597 598 599 600 602 603 608 609 611 612 613 614 615 617 619 620\n",
      " 622 623 625 627 631 635 636 637 638 639 642 643 648 651 652 654 656 657\n",
      " 659 661 662 664 671 673 674 675 676 677 679 681 682 683 685 686 687 689\n",
      " 690 694 697 698] 328\n"
     ]
    }
   ],
   "source": [
    "marks = stats_df[\"Y\"].to_numpy()\n",
    "max_count = stats_df[\"max_count\"].to_numpy()\n",
    "\n",
    "fil_ids = np.where((marks == 1) & (max_count > 2))[0]\n",
    "print(fil_ids, fil_ids.shape[0])"
   ],
   "metadata": {
    "collapsed": false,
    "ExecuteTime": {
     "start_time": "2024-03-21T22:02:18.376372Z",
     "end_time": "2024-03-21T22:02:18.404684Z"
    }
   }
  },
  {
   "cell_type": "code",
   "execution_count": 131,
   "outputs": [],
   "source": [
    "for i in range(min(fil_ids.shape[0], 10)):\n",
    "    signal_data = signal_fragments[fil_ids[i]]\n",
    "\n",
    "    n_diff = 1\n",
    "    signal_data_d1 = np.diff(signal_data, n=n_diff)\n",
    "\n",
    "    log_df = pd.DataFrame(np.column_stack([np.arange(0, 512, 1), signal_data]), columns=[\"t\", \"ch11\"])\n",
    "    log_df[\"ch11\"] = signal_data\n",
    "    # if log_df is not None:\n",
    "    #     log_df[f\"ch11_{n_diff}d\"] = np.concatenate([np.diff(signal_data, n=n_diff), [0]*n_diff])\n",
    "\n",
    "    # sos = signal.butter(5, 0.1, output=\"sos\")\n",
    "    #\n",
    "    # signal_data_d1 = signal.sosfilt(sos, signal_data_d1)\n",
    "\n",
    "    b, a = signal.butter(5, 0.1)\n",
    "\n",
    "    signal_data_d1 = signal.filtfilt(b, a, signal_data_d1)\n",
    "    log_df[\"ch11_b\"] = np.concatenate([signal_data_d1, [0] * n_diff])\n",
    "\n",
    "    m = signal_data_d1.mean()\n",
    "    std = signal_data_d1.std()\n",
    "    log_df[\"ch11_mn\"] = np.array([m] * (signal_data_d1.shape[0]+1))\n",
    "    log_df[\"ch11_std\"] = np.array([m + std] * (signal_data_d1.shape[0]+1))\n",
    "    log_df[\"ch11_-std\"] = np.array([m - std] * (signal_data_d1.shape[0]+1))\n",
    "\n",
    "    fig, axs = plt.subplots(1, 2, figsize=(8, 4))\n",
    "    # plt.tight_layout()\n",
    "    plot_signal_fft(log_df, fig, axs)\n",
    "    plt.savefig(f\"img/1/fragment_41226_{fil_ids[i]}.png\")\n",
    "    plt.close()"
   ],
   "metadata": {
    "collapsed": false,
    "ExecuteTime": {
     "start_time": "2024-03-21T22:02:36.162397Z",
     "end_time": "2024-03-21T22:02:41.320407Z"
    }
   }
  },
  {
   "cell_type": "code",
   "execution_count": null,
   "outputs": [],
   "source": [],
   "metadata": {
    "collapsed": false
   }
  }
 ],
 "metadata": {
  "kernelspec": {
   "display_name": "Python 3",
   "language": "python",
   "name": "python3"
  },
  "language_info": {
   "codemirror_mode": {
    "name": "ipython",
    "version": 2
   },
   "file_extension": ".py",
   "mimetype": "text/x-python",
   "name": "python",
   "nbconvert_exporter": "python",
   "pygments_lexer": "ipython2",
   "version": "2.7.6"
  }
 },
 "nbformat": 4,
 "nbformat_minor": 0
}
